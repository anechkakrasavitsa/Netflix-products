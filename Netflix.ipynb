{
 "cells": [
  {
   "cell_type": "markdown",
   "id": "789ff904",
   "metadata": {},
   "source": [
    "## **Ну что! Давайте начнем исследование!** \n",
    "Начнем с технической части."
   ]
  },
  {
   "cell_type": "code",
   "execution_count": 1,
   "id": "ce6979ea",
   "metadata": {},
   "outputs": [],
   "source": [
    "# load Pandas library to work with .csv file\n",
    "import pandas as pd \n",
    "\n",
    "netflix = pd.read_csv('netflix_titles.csv', index_col=0) # Read Netflix dataset\n",
    "netflix['type'] = netflix['type'].str.split(',') # Make a dictionary with types of products: movie or series\n",
    "netflix['cast'] = netflix['cast'].str.split(',') # Make a dictionary with casts\n",
    "netflix['country'] = netflix['country'].str.split(',') # Make a dictionary with countries where the products were made\n",
    "netflix['duration'] = netflix['duration'].str.split(',') # Make a dictionary with duration of the products"
   ]
  },
  {
   "cell_type": "markdown",
   "id": "52625d91",
   "metadata": {},
   "source": [
    "Netflix доступен во всех странах кроме России, Китая, Сирии и Северной Кореи. Соотвественно, его продукты снимаются почти по всему миру, но где чаще всего?"
   ]
  },
  {
   "cell_type": "code",
   "execution_count": 2,
   "id": "2838bf4e",
   "metadata": {},
   "outputs": [
    {
     "name": "stdout",
     "output_type": "stream",
     "text": [
      "Топ-3 страны, в которых снимают продукты Netflix: United States, India, United Kingdom.\n"
     ]
    }
   ],
   "source": [
    "# Create an empty dictionary that will include information about how many times did every country make a movie/series\n",
    "countries_count = {}\n",
    "\n",
    "# Count how many times did the country's name appear in the dictionary\n",
    "for elem in netflix['country']:\n",
    "    if not isinstance(elem, float): # Some products do not have information, so we should take it into account\n",
    "        for el in elem:\n",
    "            if el in countries_count:\n",
    "                countries_count[el] += 1\n",
    "            else:\n",
    "                countries_count[el] = 1\n",
    "\n",
    "# Sort countries by the highest number of them being mentioned in dataset\n",
    "top_countries = sorted(countries_count, key=countries_count.get, reverse=True)[:3]\n",
    "print(f'Топ-3 страны, в которых снимают продукты Netflix: {\", \".join(top_countries)}.')"
   ]
  },
  {
   "cell_type": "markdown",
   "id": "31d3826e",
   "metadata": {},
   "source": [
    "А чего снимается больше? Фильмов или сериалов? А на сколько больше?"
   ]
  },
  {
   "cell_type": "code",
   "execution_count": 3,
   "id": "2c5ce7d8",
   "metadata": {},
   "outputs": [
    {
     "name": "stdout",
     "output_type": "stream",
     "text": [
      "Вот это да! Фильмов больше, чем сериалов в 2.3 раза.\n"
     ]
    }
   ],
   "source": [
    "# Create 2 null variables (type: integer) that will include number of series and movies in dataset\n",
    "number_of_movies = 0\n",
    "number_of_series = 0\n",
    "\n",
    "for elem in netflix['type']:\n",
    "    if elem == ['Movie']:     # Count how many times did either a movie or a series appear in dataset\n",
    "        number_of_movies += 1\n",
    "    else:\n",
    "        number_of_series += 1\n",
    "if number_of_movies > number_of_series: # Compare the number of movies and series and count how many times one is bigger than\n",
    "    print(f'Вот это да! Фильмов больше, чем сериалов в {round(number_of_movies/number_of_series, 1)} раза.')\n",
    "elif number_of_movies < number_of_series:\n",
    "    print(f'Вот это да! Сериалов больше, чем фильмов в {round(number_of_series/number_of_movies, 1)} раза.')\n",
    "else:\n",
    "    print(f'Вот это да! На Netflix одинаковое количество сериалов и фильмов! Чудеса!')"
   ]
  },
  {
   "cell_type": "markdown",
   "id": "660e92d6",
   "metadata": {},
   "source": [
    "Иногда кажется, что фильм идет бесконечно долго, сериал затягивается на 116 сезонов, а иногда наоборот - все закачивается слишком быстро. Какая же средняя продолжительность фильма и сериала? "
   ]
  },
  {
   "cell_type": "code",
   "execution_count": 4,
   "id": "5e23f55c",
   "metadata": {},
   "outputs": [
    {
     "name": "stdout",
     "output_type": "stream",
     "text": [
      "Средняя продолжительность фильма 99.5 минут.\n",
      "Средняя продолжительность сериала 1.8 сезонов.\n"
     ]
    }
   ],
   "source": [
    "# Create 2 null variables (type: integer) that will include products' general length \n",
    "total_length_of_movies = 0\n",
    "total_length_of_series = 0\n",
    "\n",
    "# Count overall duration of films and series\n",
    "for elem in netflix['duration']:\n",
    "    if not isinstance(elem, float):                # There may be no information\n",
    "        elem = elem[0].split()\n",
    "        if elem[1] == 'min':                       # Count in minutes for films\n",
    "            total_length_of_movies += int(elem[0])\n",
    "        else:                                      # Count in seasons for series\n",
    "            total_length_of_series += int(elem[0])\n",
    "\n",
    "# Count an average length by dividing an overall duration by number of product needed\n",
    "print(f'Средняя продолжительность фильма {round(total_length_of_movies/number_of_movies, 1)} минут.')\n",
    "print(f'Средняя продолжительность сериала {round(total_length_of_series/number_of_series, 1)} сезонов.')"
   ]
  },
  {
   "cell_type": "markdown",
   "id": "478a10ad",
   "metadata": {},
   "source": [
    "А еще иногда создается впечатление, что везде играют одни и те же актеры, неужели больше нет талантов? Давайте посмотрим, какой актер или актриса снялся/ась в наибольшем количестве продуктов Netflix, и сколько раз."
   ]
  },
  {
   "cell_type": "code",
   "execution_count": 5,
   "id": "b3eb5018",
   "metadata": {},
   "outputs": [
    {
     "name": "stdout",
     "output_type": "stream",
     "text": [
      "Самый популярный actor Anupam Kher, который снялся 39 раз.\n"
     ]
    }
   ],
   "source": [
    "# Create an empty dictionary that will consist of actors' and actresses' names and how many times he or she starred\n",
    "most_popular_actor_actress = {}\n",
    "\n",
    "# Count how many times did every actor and actress star\n",
    "for elem in netflix['cast']:\n",
    "    if not isinstance(elem, float): # There may be no information\n",
    "        for person in elem:\n",
    "            if person in most_popular_actor_actress:\n",
    "                most_popular_actor_actress[person] += 1\n",
    "            else:\n",
    "                most_popular_actor_actress[person] = 1\n",
    "            \n",
    "# Sort the names by the highest number of times starred\n",
    "answer = sorted(most_popular_actor_actress, key=most_popular_actor_actress.get, reverse=True)\n",
    "print(f'Самый популярный actor{list(answer)[0]}, который снялся {most_popular_actor_actress[list(answer)[0]]} раз.')"
   ]
  },
  {
   "cell_type": "markdown",
   "id": "c9ee990c",
   "metadata": {},
   "source": [
    "### Как говорит [Катя Адушкина](https://www.youtube.com/@KatyaAdushkinaa), ну вот и всё, это было всё, всем пока-пока! Надеемся, вам было интересно!"
   ]
  }
 ],
 "metadata": {
  "kernelspec": {
   "display_name": "Python 3 (ipykernel)",
   "language": "python",
   "name": "python3"
  },
  "language_info": {
   "codemirror_mode": {
    "name": "ipython",
    "version": 3
   },
   "file_extension": ".py",
   "mimetype": "text/x-python",
   "name": "python",
   "nbconvert_exporter": "python",
   "pygments_lexer": "ipython3",
   "version": "3.11.5"
  }
 },
 "nbformat": 4,
 "nbformat_minor": 5
}
